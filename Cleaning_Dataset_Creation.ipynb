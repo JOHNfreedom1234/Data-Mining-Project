{
 "cells": [
  {
   "cell_type": "markdown",
   "id": "17327915",
   "metadata": {},
   "source": [
    "# Data Mining Project: Weather Analysis"
   ]
  },
  {
   "cell_type": "markdown",
   "id": "46cd27c3",
   "metadata": {},
   "source": [
    "### Combining the datasets"
   ]
  },
  {
   "cell_type": "code",
   "execution_count": 17,
   "id": "38765401",
   "metadata": {},
   "outputs": [],
   "source": [
    "import pandas as pd\n",
    "import numpy as np\n",
    "import warnings\n",
    "import matplotlib.pyplot as plt\n",
    "warnings.filterwarnings(\"ignore\")\n",
    "from sklearn.preprocessing import LabelEncoder\n",
    "import pickle"
   ]
  },
  {
   "cell_type": "code",
   "execution_count": 51,
   "id": "8d3d440e",
   "metadata": {},
   "outputs": [],
   "source": [
    "df1 = pd.read_csv('202501_CombinedData.csv')\n",
    "df2 = pd.read_csv('202502_CombinedData.csv')\n",
    "df3 = pd.read_csv('202503_CombinedData.csv')\n",
    "df4 = pd.read_csv('202504_CombinedData.csv')\n",
    "\n",
    "df = pd.concat([df1, df2, df3, df4], ignore_index=True)\n",
    "\n",
    "df.to_csv('combined_weather.csv', index=False)"
   ]
  },
  {
   "cell_type": "code",
   "execution_count": 52,
   "id": "90aacadb",
   "metadata": {},
   "outputs": [
    {
     "name": "stdout",
     "output_type": "stream",
     "text": [
      "<class 'pandas.core.frame.DataFrame'>\n",
      "RangeIndex: 284961 entries, 0 to 284960\n",
      "Data columns (total 20 columns):\n",
      " #   Column               Non-Null Count   Dtype  \n",
      "---  ------               --------------   -----  \n",
      " 0   visibility           284772 non-null  float64\n",
      " 1   datetime             284961 non-null  object \n",
      " 2   main.temp            284961 non-null  float64\n",
      " 3   main.feels_like      284961 non-null  float64\n",
      " 4   main.temp_min        284961 non-null  float64\n",
      " 5   main.temp_max        284961 non-null  float64\n",
      " 6   main.pressure        284961 non-null  float64\n",
      " 7   main.humidity        284961 non-null  float64\n",
      " 8   main.sea_level       284961 non-null  float64\n",
      " 9   main.grnd_level      284961 non-null  float64\n",
      " 10  wind.speed           284961 non-null  float64\n",
      " 11  wind.deg             284961 non-null  float64\n",
      " 12  wind.gust            245652 non-null  float64\n",
      " 13  clouds.all           284961 non-null  float64\n",
      " 14  sys.sunrise          284961 non-null  object \n",
      " 15  sys.sunset           284961 non-null  object \n",
      " 16  weather.main         284961 non-null  object \n",
      " 17  weather.description  284961 non-null  object \n",
      " 18  city_name            284961 non-null  object \n",
      " 19  rain.1h              15955 non-null   float64\n",
      "dtypes: float64(14), object(6)\n",
      "memory usage: 43.5+ MB\n",
      "None\n",
      "(284961, 20)\n"
     ]
    }
   ],
   "source": [
    "df = pd.read_csv('combined_weather.csv')\n",
    "print(df.info())\n",
    "print(df.shape)"
   ]
  },
  {
   "cell_type": "markdown",
   "id": "b7100254",
   "metadata": {},
   "source": [
    "### Filtering for Iloilo City, Removing Unecessary Variables, and Filling rain.1h"
   ]
  },
  {
   "cell_type": "code",
   "execution_count": null,
   "id": "d0a6c6ba",
   "metadata": {},
   "outputs": [],
   "source": [
    "city = 'Iloilo City'\n",
    "df = df[df['city_name'] == city]\n",
    "df1 = df.drop(columns=['sys.sunrise', 'sys.sunset', 'main.sea_level', 'main.grnd_level', 'weather.description', 'wind.gust', 'wind.deg', 'city_name'])\n",
    "df1['rain.1h'] = df1['rain.1h'].fillna(0)\n",
    "print(df.info())\n",
    "print(df.shape)"
   ]
  },
  {
   "cell_type": "code",
   "execution_count": null,
   "id": "d77af0e8",
   "metadata": {},
   "outputs": [],
   "source": [
    "df1.to_csv('combined_weather_iloilo.csv', index=False)"
   ]
  },
  {
   "cell_type": "markdown",
   "id": "b4be6aae",
   "metadata": {},
   "source": [
    "### Dateset Cleaning Process"
   ]
  },
  {
   "cell_type": "code",
   "execution_count": 18,
   "id": "eff70bfe",
   "metadata": {},
   "outputs": [
    {
     "name": "stdout",
     "output_type": "stream",
     "text": [
      "<class 'pandas.core.frame.DataFrame'>\n",
      "RangeIndex: 2050 entries, 0 to 2049\n",
      "Data columns (total 12 columns):\n",
      " #   Column           Non-Null Count  Dtype  \n",
      "---  ------           --------------  -----  \n",
      " 0   visibility       2050 non-null   float64\n",
      " 1   datetime         2050 non-null   object \n",
      " 2   main.temp        2050 non-null   float64\n",
      " 3   main.feels_like  2050 non-null   float64\n",
      " 4   main.temp_min    2050 non-null   float64\n",
      " 5   main.temp_max    2050 non-null   float64\n",
      " 6   main.pressure    2050 non-null   float64\n",
      " 7   main.humidity    2050 non-null   float64\n",
      " 8   wind.speed       2050 non-null   float64\n",
      " 9   clouds.all       2050 non-null   float64\n",
      " 10  weather.main     2050 non-null   object \n",
      " 11  rain.1h          2050 non-null   float64\n",
      "dtypes: float64(10), object(2)\n",
      "memory usage: 192.3+ KB\n",
      "None\n",
      "(2050, 12)\n"
     ]
    }
   ],
   "source": [
    "df2 = pd.read_csv('combined_weather_iloilo.csv')\n",
    "print(df2.info())\n",
    "print(df2.shape)"
   ]
  },
  {
   "cell_type": "code",
   "execution_count": 19,
   "id": "5b464db7",
   "metadata": {},
   "outputs": [],
   "source": [
    "df2['datetime'] = pd.to_datetime(df2['datetime'])\n",
    "df2.set_index('datetime', inplace=True)"
   ]
  },
  {
   "cell_type": "markdown",
   "id": "c8a1a480",
   "metadata": {},
   "source": [
    "Index has been switched to datetime, now there are gonna be a bunch of issues here, namely\n",
    "- Intervals are not exact, and there are differences in between minutes\n",
    "- Intervals are also not consistent, From January 1st to February 25, it uses a bi-hourly interval before it transitions to hourly\n",
    "  - There are also times when it would suddenly switch to hourly \n",
    "- There is a massive 5-day gap from March 23 - 28\n",
    "\n",
    "Now that we have identified that, lets get to cleaning"
   ]
  },
  {
   "cell_type": "code",
   "execution_count": 20,
   "id": "df7780b0",
   "metadata": {},
   "outputs": [
    {
     "name": "stdout",
     "output_type": "stream",
     "text": [
      "                           visibility  main.temp  main.feels_like  \\\n",
      "datetime                                                            \n",
      "2025-01-01 00:00:00+08:00     10000.0      24.78            25.64   \n",
      "2025-01-01 02:00:00+08:00     10000.0      24.70            25.58   \n",
      "2025-01-01 04:00:00+08:00     10000.0      24.80            25.66   \n",
      "2025-01-01 06:00:00+08:00     10000.0      24.67            25.54   \n",
      "2025-01-01 08:00:00+08:00     10000.0      25.95            25.95   \n",
      "\n",
      "                           main.temp_min  main.temp_max  main.pressure  \\\n",
      "datetime                                                                 \n",
      "2025-01-01 00:00:00+08:00          24.78          24.78         1010.0   \n",
      "2025-01-01 02:00:00+08:00          24.70          24.70         1009.0   \n",
      "2025-01-01 04:00:00+08:00          24.80          24.80         1009.0   \n",
      "2025-01-01 06:00:00+08:00          24.67          24.67         1009.0   \n",
      "2025-01-01 08:00:00+08:00          25.95          25.95         1011.0   \n",
      "\n",
      "                           main.humidity  wind.speed  clouds.all weather.main  \\\n",
      "datetime                                                                        \n",
      "2025-01-01 00:00:00+08:00           89.0        3.43        91.0       Clouds   \n",
      "2025-01-01 02:00:00+08:00           90.0        4.00        94.0       Clouds   \n",
      "2025-01-01 04:00:00+08:00           89.0        3.46       100.0       Clouds   \n",
      "2025-01-01 06:00:00+08:00           90.0        3.71       100.0       Clouds   \n",
      "2025-01-01 08:00:00+08:00           87.0        5.16        86.0       Clouds   \n",
      "\n",
      "                           rain.1h  \n",
      "datetime                            \n",
      "2025-01-01 00:00:00+08:00      0.0  \n",
      "2025-01-01 02:00:00+08:00      0.0  \n",
      "2025-01-01 04:00:00+08:00      0.0  \n",
      "2025-01-01 06:00:00+08:00      0.0  \n",
      "2025-01-01 08:00:00+08:00      0.0  \n",
      "(2050, 11)\n"
     ]
    }
   ],
   "source": [
    "df2.index = df2.index.round('H')\n",
    "print(df2.head())\n",
    "print(df2.shape)"
   ]
  },
  {
   "cell_type": "markdown",
   "id": "19823585",
   "metadata": {},
   "source": [
    "Hourly Intervals are rounded up"
   ]
  },
  {
   "cell_type": "code",
   "execution_count": 21,
   "id": "359da3bc",
   "metadata": {},
   "outputs": [
    {
     "data": {
      "text/plain": [
       "np.int64(1)"
      ]
     },
     "execution_count": 21,
     "metadata": {},
     "output_type": "execute_result"
    }
   ],
   "source": [
    "df2.index.duplicated().sum()\n"
   ]
  },
  {
   "cell_type": "markdown",
   "id": "3c3ab2bc",
   "metadata": {},
   "source": [
    "Checking for Duplicate Timestamps, thankfully there's only one"
   ]
  },
  {
   "cell_type": "code",
   "execution_count": 22,
   "id": "80bc817c",
   "metadata": {},
   "outputs": [
    {
     "data": {
      "text/html": [
       "<div>\n",
       "<style scoped>\n",
       "    .dataframe tbody tr th:only-of-type {\n",
       "        vertical-align: middle;\n",
       "    }\n",
       "\n",
       "    .dataframe tbody tr th {\n",
       "        vertical-align: top;\n",
       "    }\n",
       "\n",
       "    .dataframe thead th {\n",
       "        text-align: right;\n",
       "    }\n",
       "</style>\n",
       "<table border=\"1\" class=\"dataframe\">\n",
       "  <thead>\n",
       "    <tr style=\"text-align: right;\">\n",
       "      <th></th>\n",
       "      <th>visibility</th>\n",
       "      <th>main.temp</th>\n",
       "      <th>main.feels_like</th>\n",
       "      <th>main.temp_min</th>\n",
       "      <th>main.temp_max</th>\n",
       "      <th>main.pressure</th>\n",
       "      <th>main.humidity</th>\n",
       "      <th>wind.speed</th>\n",
       "      <th>clouds.all</th>\n",
       "      <th>weather.main</th>\n",
       "      <th>rain.1h</th>\n",
       "    </tr>\n",
       "    <tr>\n",
       "      <th>datetime</th>\n",
       "      <th></th>\n",
       "      <th></th>\n",
       "      <th></th>\n",
       "      <th></th>\n",
       "      <th></th>\n",
       "      <th></th>\n",
       "      <th></th>\n",
       "      <th></th>\n",
       "      <th></th>\n",
       "      <th></th>\n",
       "      <th></th>\n",
       "    </tr>\n",
       "  </thead>\n",
       "  <tbody>\n",
       "    <tr>\n",
       "      <th>2025-01-12 14:00:00+08:00</th>\n",
       "      <td>10000.0</td>\n",
       "      <td>27.62</td>\n",
       "      <td>31.3</td>\n",
       "      <td>27.62</td>\n",
       "      <td>27.62</td>\n",
       "      <td>1009.0</td>\n",
       "      <td>81.0</td>\n",
       "      <td>7.4</td>\n",
       "      <td>95.0</td>\n",
       "      <td>Rain</td>\n",
       "      <td>0.12</td>\n",
       "    </tr>\n",
       "    <tr>\n",
       "      <th>2025-01-12 14:00:00+08:00</th>\n",
       "      <td>10000.0</td>\n",
       "      <td>27.62</td>\n",
       "      <td>31.3</td>\n",
       "      <td>27.62</td>\n",
       "      <td>27.62</td>\n",
       "      <td>1009.0</td>\n",
       "      <td>81.0</td>\n",
       "      <td>7.4</td>\n",
       "      <td>95.0</td>\n",
       "      <td>Clouds</td>\n",
       "      <td>0.00</td>\n",
       "    </tr>\n",
       "  </tbody>\n",
       "</table>\n",
       "</div>"
      ],
      "text/plain": [
       "                           visibility  main.temp  main.feels_like  \\\n",
       "datetime                                                            \n",
       "2025-01-12 14:00:00+08:00     10000.0      27.62             31.3   \n",
       "2025-01-12 14:00:00+08:00     10000.0      27.62             31.3   \n",
       "\n",
       "                           main.temp_min  main.temp_max  main.pressure  \\\n",
       "datetime                                                                 \n",
       "2025-01-12 14:00:00+08:00          27.62          27.62         1009.0   \n",
       "2025-01-12 14:00:00+08:00          27.62          27.62         1009.0   \n",
       "\n",
       "                           main.humidity  wind.speed  clouds.all weather.main  \\\n",
       "datetime                                                                        \n",
       "2025-01-12 14:00:00+08:00           81.0         7.4        95.0         Rain   \n",
       "2025-01-12 14:00:00+08:00           81.0         7.4        95.0       Clouds   \n",
       "\n",
       "                           rain.1h  \n",
       "datetime                            \n",
       "2025-01-12 14:00:00+08:00     0.12  \n",
       "2025-01-12 14:00:00+08:00     0.00  "
      ]
     },
     "execution_count": 22,
     "metadata": {},
     "output_type": "execute_result"
    }
   ],
   "source": [
    "df2[df2.index.duplicated(keep=False)]"
   ]
  },
  {
   "cell_type": "code",
   "execution_count": 23,
   "id": "487673e6",
   "metadata": {},
   "outputs": [
    {
     "data": {
      "text/plain": [
       "np.int64(0)"
      ]
     },
     "execution_count": 23,
     "metadata": {},
     "output_type": "execute_result"
    }
   ],
   "source": [
    "df2 = df2[~((df2.index == '2025-01-12 14:00:00+08:00') & (df2['weather.main'] == 'Clouds'))]\n",
    "df2[df2.index == '2025-01-12 14:00:00']\n",
    "df2.index.duplicated().sum()"
   ]
  },
  {
   "cell_type": "markdown",
   "id": "81d2d2d9",
   "metadata": {},
   "source": [
    "Timestamp Check Completed"
   ]
  },
  {
   "cell_type": "code",
   "execution_count": 24,
   "id": "30c113f2",
   "metadata": {},
   "outputs": [
    {
     "data": {
      "text/plain": [
       "time_diff\n",
       "1.0      1348\n",
       "2.0       699\n",
       "133.0       1\n",
       "Name: count, dtype: int64"
      ]
     },
     "execution_count": 24,
     "metadata": {},
     "output_type": "execute_result"
    }
   ],
   "source": [
    "df2['time_diff'] = df2.index.to_series().diff().dt.total_seconds() / 3600\n",
    "df2['time_diff'].value_counts()"
   ]
  },
  {
   "cell_type": "markdown",
   "id": "17f136ff",
   "metadata": {},
   "source": [
    "This checks for the time difference between consecutive rows in hours. Currently, it all checks out, with 1348 Hourly data intervals and 699 bi-hourly intervals. save for a suspicious time difference of 133 Hours, this is the time gap from March 23 - 28 issue. Either way, Random Forest and SVM, particularly as classifiers, are a lot more resilient to time gaps, so this actually works in our favor."
   ]
  },
  {
   "cell_type": "markdown",
   "id": "c7508420",
   "metadata": {},
   "source": [
    "Now let's do one final check "
   ]
  },
  {
   "cell_type": "code",
   "execution_count": 25,
   "id": "0b12c5de",
   "metadata": {},
   "outputs": [
    {
     "name": "stdout",
     "output_type": "stream",
     "text": [
      "<class 'pandas.core.frame.DataFrame'>\n",
      "RangeIndex: 2049 entries, 0 to 2048\n",
      "Data columns (total 12 columns):\n",
      " #   Column           Non-Null Count  Dtype                    \n",
      "---  ------           --------------  -----                    \n",
      " 0   datetime         2049 non-null   datetime64[ns, UTC+08:00]\n",
      " 1   visibility       2049 non-null   float64                  \n",
      " 2   main.temp        2049 non-null   float64                  \n",
      " 3   main.feels_like  2049 non-null   float64                  \n",
      " 4   main.temp_min    2049 non-null   float64                  \n",
      " 5   main.temp_max    2049 non-null   float64                  \n",
      " 6   main.pressure    2049 non-null   float64                  \n",
      " 7   main.humidity    2049 non-null   float64                  \n",
      " 8   wind.speed       2049 non-null   float64                  \n",
      " 9   clouds.all       2049 non-null   float64                  \n",
      " 10  weather.main     2049 non-null   object                   \n",
      " 11  rain.1h          2049 non-null   float64                  \n",
      "dtypes: datetime64[ns, UTC+08:00](1), float64(10), object(1)\n",
      "memory usage: 192.2+ KB\n",
      "None\n"
     ]
    }
   ],
   "source": [
    "df2 = df2.drop(columns=['time_diff'])\n",
    "df2 = df2.reset_index()\n",
    "print(df2.info())"
   ]
  },
  {
   "cell_type": "code",
   "execution_count": 26,
   "id": "3f8c0d09",
   "metadata": {},
   "outputs": [
    {
     "data": {
      "text/plain": [
       "datetime           0\n",
       "visibility         0\n",
       "main.temp          0\n",
       "main.feels_like    0\n",
       "main.temp_min      0\n",
       "main.temp_max      0\n",
       "main.pressure      0\n",
       "main.humidity      0\n",
       "wind.speed         0\n",
       "clouds.all         0\n",
       "weather.main       0\n",
       "rain.1h            0\n",
       "dtype: int64"
      ]
     },
     "execution_count": 26,
     "metadata": {},
     "output_type": "execute_result"
    }
   ],
   "source": [
    "df2.isnull().sum()"
   ]
  },
  {
   "cell_type": "code",
   "execution_count": 27,
   "id": "5cb97d43",
   "metadata": {},
   "outputs": [
    {
     "data": {
      "text/plain": [
       "np.int64(0)"
      ]
     },
     "execution_count": 27,
     "metadata": {},
     "output_type": "execute_result"
    }
   ],
   "source": [
    "df2.duplicated().sum()"
   ]
  },
  {
   "cell_type": "code",
   "execution_count": 28,
   "id": "0605ee7b",
   "metadata": {},
   "outputs": [],
   "source": [
    "df2 = df2.rename(columns={'main.temp': 'Temperature'})\n",
    "df2 = df2.rename(columns={'main.feels_like': 'Relative Temperature'})\n",
    "df2 = df2.rename(columns={'main.temp_min': 'Min Temperature'})\n",
    "df2 = df2.rename(columns={'main.temp_max': 'Max Temperature'})\n",
    "df2 = df2.rename(columns={'main.pressure': 'pressure'})\n",
    "df2 = df2.rename(columns={'main.humidity': 'humidity'})\n",
    "df2 = df2.rename(columns={'wind.speed': 'Wind Speed'})\n",
    "df2 = df2.rename(columns={'clouds.all': 'Cloudiness'})\n",
    "df2 = df2.rename(columns={'weather.main': 'weather'})\n",
    "df2 = df2.rename(columns={'rain.1h': 'Rainfall'})"
   ]
  },
  {
   "cell_type": "code",
   "execution_count": 29,
   "id": "441afb47",
   "metadata": {},
   "outputs": [
    {
     "name": "stdout",
     "output_type": "stream",
     "text": [
      "<class 'pandas.core.frame.DataFrame'>\n",
      "RangeIndex: 2049 entries, 0 to 2048\n",
      "Data columns (total 12 columns):\n",
      " #   Column                Non-Null Count  Dtype                    \n",
      "---  ------                --------------  -----                    \n",
      " 0   datetime              2049 non-null   datetime64[ns, UTC+08:00]\n",
      " 1   visibility            2049 non-null   float64                  \n",
      " 2   Temperature           2049 non-null   float64                  \n",
      " 3   Relative Temperature  2049 non-null   float64                  \n",
      " 4   Min Temperature       2049 non-null   float64                  \n",
      " 5   Max Temperature       2049 non-null   float64                  \n",
      " 6   pressure              2049 non-null   float64                  \n",
      " 7   humidity              2049 non-null   float64                  \n",
      " 8   Wind Speed            2049 non-null   float64                  \n",
      " 9   Cloudiness            2049 non-null   float64                  \n",
      " 10  weather               2049 non-null   object                   \n",
      " 11  Rainfall              2049 non-null   float64                  \n",
      "dtypes: datetime64[ns, UTC+08:00](1), float64(10), object(1)\n",
      "memory usage: 192.2+ KB\n",
      "None\n"
     ]
    }
   ],
   "source": [
    "print(df2.info())"
   ]
  },
  {
   "cell_type": "code",
   "execution_count": 31,
   "id": "f17ff7ee",
   "metadata": {},
   "outputs": [
    {
     "data": {
      "text/plain": [
       "weather\n",
       "Clouds    1903\n",
       "Rain        93\n",
       "Clear       53\n",
       "Name: count, dtype: int64"
      ]
     },
     "execution_count": 31,
     "metadata": {},
     "output_type": "execute_result"
    }
   ],
   "source": [
    "df2.isnull().sum()\n",
    "df2['weather'].value_counts()\n"
   ]
  },
  {
   "cell_type": "code",
   "execution_count": 32,
   "id": "7dc34b66",
   "metadata": {},
   "outputs": [
    {
     "data": {
      "image/png": "[encoded data removed]",
      "text/plain": [
       "<Figure size 640x480 with 1 Axes>"
      ]
     },
     "metadata": {},
     "output_type": "display_data"
    }
   ],
   "source": [
    "df2['weather'].value_counts().plot(kind='bar')\n",
    "plt.title('Category Distribution')\n",
    "plt.xlabel('Categories')\n",
    "plt.ylabel('Count')\n",
    "plt.show()"
   ]
  },
  {
   "cell_type": "markdown",
   "id": "253683ff",
   "metadata": {},
   "source": [
    "Alright, now let's save this as our data mining dataset for analysis"
   ]
  },
  {
   "cell_type": "code",
   "execution_count": 30,
   "id": "4de621ee",
   "metadata": {},
   "outputs": [],
   "source": [
    "df2.to_csv('dataset_final.csv', index=False)"
   ]
  },
  {
   "cell_type": "markdown",
   "id": "1460c400",
   "metadata": {},
   "source": [
    "That should be our finalized dataset, training on the models will now begin"
   ]
  }
 ],
 "metadata": {
  "kernelspec": {
   "display_name": "Python 3",
   "language": "python",
   "name": "python3"
  },
  "language_info": {
   "codemirror_mode": {
    "name": "ipython",
    "version": 3
   },
   "file_extension": ".py",
   "mimetype": "text/x-python",
   "name": "python",
   "nbconvert_exporter": "python",
   "pygments_lexer": "ipython3",
   "version": "3.13.2"
  }
 },
 "nbformat": 4,
 "nbformat_minor": 5
}
